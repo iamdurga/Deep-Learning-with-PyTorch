{
  "cells": [
    {
      "cell_type": "code",
      "execution_count": null,
      "metadata": {
        "id": "ng-1CyIr9Nu4"
      },
      "outputs": [],
      "source": [
        "from torchvision.datasets import ImageFolder\n",
        "from torchvision import transforms\n",
        "import torch.nn.functional as F\n",
        "import torch"
      ]
    },
    {
      "cell_type": "code",
      "execution_count": null,
      "metadata": {
        "id": "9wvabv9NBZsG"
      },
      "outputs": [],
      "source": [
        "train_transforms = transforms.Compose([\n",
        "    transforms.RandomHorizontalFlip(),\n",
        "    transforms.RandomRotation(45),\n",
        "    transforms.RandomAutocontrast(),\n",
        "    transforms.ToTensor(),\n",
        "    transforms.Resize((64,64)),\n",
        "])"
      ]
    },
    {
      "cell_type": "code",
      "execution_count": null,
      "metadata": {
        "id": "4LNzLDMYB9e6"
      },
      "outputs": [],
      "source": [
        "dataset_train = ImageFolder(\n",
        "    \"/content/drive/MyDrive/Scrapping/clouds_train\",\n",
        "    transform = train_transforms,\n",
        "\n",
        "\n",
        ")"
      ]
    },
    {
      "cell_type": "code",
      "execution_count": null,
      "metadata": {
        "id": "QaUTwjxECSP0"
      },
      "outputs": [],
      "source": [
        "from torch.utils.data import DataLoader\n",
        "dataloader_train = DataLoader(\n",
        "    dataset_train,\n",
        "    shuffle = True,\n",
        "    batch_size = 1\n",
        ")"
      ]
    },
    {
      "cell_type": "code",
      "execution_count": null,
      "metadata": {
        "colab": {
          "base_uri": "https://localhost:8080/"
        },
        "id": "yMljL1_yDJqK",
        "outputId": "aa7289d0-5b0b-4812-b7dc-2162b64ccdef"
      },
      "outputs": [
        {
          "name": "stdout",
          "output_type": "stream",
          "text": [
            "torch.Size([1, 3, 64, 64])\n"
          ]
        }
      ],
      "source": [
        "image, label = next(iter(dataloader_train))\n",
        "print(image.shape)"
      ]
    },
    {
      "cell_type": "code",
      "execution_count": null,
      "metadata": {
        "colab": {
          "base_uri": "https://localhost:8080/"
        },
        "id": "gwuI_I_xNFEs",
        "outputId": "3a906e4a-6a1c-4078-964a-8a9f7ecaf591"
      },
      "outputs": [
        {
          "data": {
            "text/plain": [
              "tensor([[1, 0, 0, 0, 0, 0, 0]])"
            ]
          },
          "execution_count": 55,
          "metadata": {},
          "output_type": "execute_result"
        }
      ],
      "source": [
        "F.one_hot(label,7)"
      ]
    },
    {
      "cell_type": "code",
      "execution_count": null,
      "metadata": {
        "colab": {
          "base_uri": "https://localhost:8080/"
        },
        "id": "rt4MwZKFD5ev",
        "outputId": "67b03172-a9d4-4ebf-9daf-059bdedcf158"
      },
      "outputs": [
        {
          "name": "stdout",
          "output_type": "stream",
          "text": [
            "torch.Size([64, 64, 3])\n"
          ]
        }
      ],
      "source": [
        "image = image.squeeze().permute(1,2,0)\n",
        "print(image.shape)"
      ]
    },
    {
      "cell_type": "code",
      "execution_count": null,
      "metadata": {
        "colab": {
          "base_uri": "https://localhost:8080/",
          "height": 432
        },
        "id": "R7FZY1a0Ecmi",
        "outputId": "2de0ffbe-ffdd-40a9-d9cc-c13d9fad28c0"
      },
      "outputs": [
        {
          "data": {
            "image/png": "[encoded data removed]",
            "text/plain": [
              "<Figure size 640x480 with 1 Axes>"
            ]
          },
          "metadata": {},
          "output_type": "display_data"
        }
      ],
      "source": [
        "import matplotlib.pyplot as plt\n",
        "plt.imshow(image)\n",
        "plt.show()"
      ]
    },
    {
      "cell_type": "markdown",
      "metadata": {
        "id": "IgYUFF7TKYU0"
      },
      "source": [
        "## Convolutional Neural Networks"
      ]
    },
    {
      "cell_type": "code",
      "execution_count": null,
      "metadata": {
        "id": "No5fViKOE3mG"
      },
      "outputs": [],
      "source": [
        "import torch.nn as nn\n",
        "class Net(nn.Module):\n",
        "  def __init__(self, num_classes):\n",
        "    super().__init__()\n",
        "    self.feature_extractor = nn.Sequential(\n",
        "        nn.Conv2d(3, 16, kernel_size = 5, padding = 1),\n",
        "        nn.ELU(),\n",
        "        nn.MaxPool2d(kernel_size = 2),\n",
        "        nn.Conv2d(16, 32, kernel_size = 5, padding = 1),\n",
        "        nn.ELU(),\n",
        "        nn.MaxPool2d(kernel_size = 2),\n",
        "        nn.Flatten()\n",
        "    )\n",
        "\n",
        "\n",
        "    self.classifier = nn.Sequential(\n",
        "        nn.Linear(32 *14 * 14, 7),\n",
        "        nn.Softmax()\n",
        "    )\n",
        "  def forward(self, x):\n",
        "    x = self.feature_extractor(x)\n",
        "\n",
        "    x = x.view(-1, 32 * 14 * 14)\n",
        "    \n",
        "    x = self.classifier(x)\n",
        "    return x"
      ]
    },
    {
      "cell_type": "code",
      "execution_count": 69,
      "metadata": {
        "colab": {
          "base_uri": "https://localhost:8080/"
        },
        "id": "GHi_pdddOBnJ",
        "outputId": "162c0932-2b94-4b7e-ae89-cb35f4a20d6c"
      },
      "outputs": [
        {
          "name": "stdout",
          "output_type": "stream",
          "text": [
            "Epoch 1, Loss: 2.0654\n",
            "Epoch 2, Loss: 2.0620\n",
            "Epoch 3, Loss: 2.0620\n",
            "Epoch 4, Loss: 2.0620\n",
            "Epoch 5, Loss: 2.0620\n",
            "Epoch 6, Loss: 2.0620\n",
            "Epoch 7, Loss: 2.0620\n",
            "Epoch 8, Loss: 2.0620\n",
            "Epoch 9, Loss: 2.0632\n",
            "Epoch 10, Loss: 2.0620\n"
          ]
        }
      ],
      "source": [
        "import torch.optim as optim\n",
        "net = Net(num_classes = 7)\n",
        "criterion = nn.CrossEntropyLoss()\n",
        "optimizer = optim.Adam(net.parameters(), lr=0.001)\n",
        "num_epochs = 10\n",
        "for epoch in range(num_epochs):\n",
        "\n",
        "    running_loss = 0.0\n",
        "    for features, labels in dataloader_train:\n",
        "     \n",
        "      optimizer.zero_grad()\n",
        "\n",
        "      output = net(features.float())\n",
        "      labels = F.one_hot(labels,7)\n",
        "\n",
        "      \n",
        "      loss = criterion(output, labels.to(torch.float32))\n",
        "\n",
        "      \n",
        "\n",
        "      loss.backward()\n",
        "      optimizer.step()\n",
        "      running_loss += loss.item()\n",
        "    epoch_loss = running_loss / len(dataloader_train)\n",
        "    print(f\"Epoch {epoch+1}, Loss: {epoch_loss:.4f}\")\n",
        "\n"
      ]
    },
    {
      "cell_type": "code",
      "execution_count": null,
      "metadata": {
        "colab": {
          "base_uri": "https://localhost:8080/"
        },
        "id": "08fEBardJ7VA",
        "outputId": "41cfc199-b482-4ea5-bbf6-e630361f9a92"
      },
      "outputs": [
        {
          "data": {
            "text/plain": [
              "57600"
            ]
          },
          "execution_count": 64,
          "metadata": {},
          "output_type": "execute_result"
        }
      ],
      "source": [
        "30*30*64"
      ]
    },
    {
      "cell_type": "code",
      "execution_count": null,
      "metadata": {
        "colab": {
          "base_uri": "https://localhost:8080/"
        },
        "id": "9eurS5QoQlF9",
        "outputId": "0a2a56d8-2459-4db1-f1c8-30fc4f0e7932"
      },
      "outputs": [
        {
          "name": "stdout",
          "output_type": "stream",
          "text": [
            "Output batch size: torch.float32\n",
            "Labels batch size: torch.int64\n",
            "torch.Size([1, 3, 64, 64])\n"
          ]
        }
      ],
      "source": [
        "print(f\"Output batch size: {output.dtype}\")\n",
        "print(f\"Labels batch size: {labels.dtype}\")\n",
        "print(features.shape)"
      ]
    },
    {
      "cell_type": "code",
      "execution_count": null,
      "metadata": {
        "id": "Fp2abIox83Ut"
      },
      "outputs": [],
      "source": []
    },
    {
      "cell_type": "markdown",
      "metadata": {
        "id": "eLy_PdZM25s6"
      },
      "source": [
        "## Model Evaluation\n",
        "\n",
        "**micro** micro average is best when our class is imbalance.\n",
        "**macro** care on performance on small dataset."
      ]
    },
    {
      "cell_type": "code",
      "execution_count": 85,
      "metadata": {
        "id": "pc7LuhzQ28Pk"
      },
      "outputs": [],
      "source": [
        "test_transforms = transforms.Compose([\n",
        "    transforms.ToTensor(),\n",
        "    transforms.Resize((64,64)),\n",
        "])"
      ]
    },
    {
      "cell_type": "code",
      "execution_count": 74,
      "metadata": {
        "id": "yopMbsjY3Aso"
      },
      "outputs": [],
      "source": [
        "dataset_test = ImageFolder(\n",
        "    \"/content/drive/MyDrive/Scrapping/clouds_test\",\n",
        "    transform = test_transforms,\n",
        "\n",
        "\n",
        ")"
      ]
    },
    {
      "cell_type": "code",
      "execution_count": 87,
      "metadata": {
        "id": "wKfOT2Xy9X3B"
      },
      "outputs": [],
      "source": [
        "dataloader_test = DataLoader(\n",
        "    dataset_test,\n",
        "    shuffle = True\n",
        "\n",
        ")"
      ]
    },
    {
      "cell_type": "code",
      "execution_count": 88,
      "metadata": {
        "colab": {
          "base_uri": "https://localhost:8080/"
        },
        "id": "Drdms06t3I80",
        "outputId": "b4bfcad2-7b84-4f94-b1fc-773b54ac7ea9"
      },
      "outputs": [
        {
          "name": "stderr",
          "output_type": "stream",
          "text": [
            "/usr/local/lib/python3.10/dist-packages/torch/nn/modules/module.py:1511: UserWarning: Implicit dimension choice for softmax has been deprecated. Change the call to include dim=X as an argument.\n",
            "  return self._call_impl(*args, **kwargs)\n"
          ]
        },
        {
          "name": "stdout",
          "output_type": "stream",
          "text": [
            "tensor(0.0823)\n"
          ]
        }
      ],
      "source": [
        "from torchmetrics import Recall\n",
        "recall_per_class = Recall(task = \"multiclass\",num_classes = 7, average = None)\n",
        "recall_micro = Recall(task = \"multiclass\", num_classes = 7, average = \"micro\")\n",
        "recall_macro = Recall(task = \"multiclass\", num_classes = 7, average = \"macro\")\n",
        "recall_weighted = Recall(task = \"multiclass\", num_classes = 7, average = \"weighted\")\n",
        "net.eval()\n",
        "with torch.no_grad():\n",
        "    for features, labels in dataloader_test:\n",
        "        \n",
        "        outputs = net(features)\n",
        "        _,preds = torch.max(output, 1)\n",
        "        recall_micro(preds, labels)\n",
        "recall = recall_micro.compute()\n",
        "print(recall)\n"
      ]
    },
    {
      "cell_type": "code",
      "execution_count": 92,
      "metadata": {
        "colab": {
          "base_uri": "https://localhost:8080/"
        },
        "id": "MYNVfA0D5uig",
        "outputId": "813cffb4-8939-4148-fd70-7444267815e5"
      },
      "outputs": [
        {
          "name": "stderr",
          "output_type": "stream",
          "text": [
            "/usr/local/lib/python3.10/dist-packages/torch/nn/modules/module.py:1511: UserWarning: Implicit dimension choice for softmax has been deprecated. Change the call to include dim=X as an argument.\n",
            "  return self._call_impl(*args, **kwargs)\n"
          ]
        },
        {
          "name": "stdout",
          "output_type": "stream",
          "text": [
            "Precision: tensor([0.0000, 0.0000, 0.0000, 0.0000, 0.0000, 0.0823, 0.0000])\n",
            "Recall: tensor([0., 0., 0., 0., 0., 1., 0.])\n"
          ]
        }
      ],
      "source": [
        "from torchmetrics import Precision\n",
        "\n",
        "metric_precision = Precision(task = \"multiclass\", num_classes = 7, average = None)\n",
        "metric_recall = Recall(task = \"multiclass\", num_classes = 7, average = None)\n",
        "\n",
        "net.eval()\n",
        "with torch.no_grad():\n",
        "    for images, labels in dataloader_test:\n",
        "        outputs = net(images)\n",
        "        _, preds = torch.max(outputs, 1)\n",
        "        metric_precision(preds, labels)\n",
        "        metric_recall(preds, labels)\n",
        "\n",
        "precision = metric_precision.compute()\n",
        "recall = metric_recall.compute()\n",
        "print(f\"Precision: {precision}\")\n",
        "print(f\"Recall: {recall}\")"
      ]
    },
    {
      "cell_type": "code",
      "execution_count": 93,
      "metadata": {
        "colab": {
          "base_uri": "https://localhost:8080/"
        },
        "id": "om-NMSLYBIee",
        "outputId": "973fd539-5438-487b-f15a-a94e575d8693"
      },
      "outputs": [
        {
          "name": "stdout",
          "output_type": "stream",
          "text": [
            "Precision: 0.011757790111005306\n",
            "Recall: 0.1428571492433548\n"
          ]
        }
      ],
      "source": [
        "\n",
        "metric_precision = Precision(task=\"multiclass\", num_classes=7, average=\"macro\")\n",
        "metric_recall = Recall(task=\"multiclass\", num_classes=7, average=\"macro\")\n",
        "\n",
        "net.eval()\n",
        "with torch.no_grad():\n",
        "    for images, labels in dataloader_test:\n",
        "        outputs = net(images)\n",
        "        _, preds = torch.max(outputs, 1)\n",
        "        metric_precision(preds, labels)\n",
        "        metric_recall(preds, labels)\n",
        "\n",
        "precision = metric_precision.compute()\n",
        "recall = metric_recall.compute()\n",
        "print(f\"Precision: {precision}\")\n",
        "print(f\"Recall: {recall}\")"
      ]
    },
    {
      "cell_type": "code",
      "execution_count": 90,
      "metadata": {
        "colab": {
          "base_uri": "https://localhost:8080/"
        },
        "id": "NDpYA3WM5Vbs",
        "outputId": "43502cdc-3e32-4b57-9afc-99131c47e907"
      },
      "outputs": [
        {
          "data": {
            "text/plain": [
              "{'cirriform clouds': 0,\n",
              " 'clear sky': 1,\n",
              " 'cumulonimbus clouds': 2,\n",
              " 'cumulus clouds': 3,\n",
              " 'high cumuliform clouds': 4,\n",
              " 'stratiform clouds': 5,\n",
              " 'stratocumulus clouds': 6}"
            ]
          },
          "execution_count": 90,
          "metadata": {},
          "output_type": "execute_result"
        }
      ],
      "source": [
        "dataset_test.class_to_idx"
      ]
    },
    {
      "cell_type": "code",
      "execution_count": 91,
      "metadata": {
        "colab": {
          "base_uri": "https://localhost:8080/"
        },
        "id": "akV8i4mj6bcX",
        "outputId": "af60cc2c-2690-4338-ce76-24b61ae96348"
      },
      "outputs": [
        {
          "data": {
            "text/plain": [
              "{'cirriform clouds': 0.0,\n",
              " 'clear sky': 0.0,\n",
              " 'cumulonimbus clouds': 0.0,\n",
              " 'cumulus clouds': 0.0,\n",
              " 'high cumuliform clouds': 0.0,\n",
              " 'stratiform clouds': 1.0,\n",
              " 'stratocumulus clouds': 0.0}"
            ]
          },
          "execution_count": 91,
          "metadata": {},
          "output_type": "execute_result"
        }
      ],
      "source": [
        "{k:recall[v].item() for k , v in dataset_test.class_to_idx.items()}"
      ]
    },
    {
      "cell_type": "markdown",
      "metadata": {
        "id": "eiR8e20xCfp2"
      },
      "source": []
    }
  ],
  "metadata": {
    "colab": {
      "provenance": []
    },
    "kernelspec": {
      "display_name": "Python 3",
      "name": "python3"
    },
    "language_info": {
      "name": "python"
    }
  },
  "nbformat": 4,
  "nbformat_minor": 0
}
